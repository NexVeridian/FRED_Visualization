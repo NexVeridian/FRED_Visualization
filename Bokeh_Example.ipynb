{
 "cells": [
  {
   "cell_type": "markdown",
   "metadata": {},
   "source": [
    "**Bokeh charting example for CPI, Core CPI, and Stick CPI**"
   ]
  },
  {
   "cell_type": "code",
   "execution_count": 1,
   "metadata": {},
   "outputs": [
    {
     "data": {
      "text/html": [
       "<div>\n",
       "<style scoped>\n",
       "    .dataframe tbody tr th:only-of-type {\n",
       "        vertical-align: middle;\n",
       "    }\n",
       "\n",
       "    .dataframe tbody tr th {\n",
       "        vertical-align: top;\n",
       "    }\n",
       "\n",
       "    .dataframe thead th {\n",
       "        text-align: right;\n",
       "    }\n",
       "</style>\n",
       "<table border=\"1\" class=\"dataframe\">\n",
       "  <thead>\n",
       "    <tr style=\"text-align: right;\">\n",
       "      <th></th>\n",
       "      <th>Date</th>\n",
       "      <th>CPI</th>\n",
       "      <th>Core</th>\n",
       "      <th>Sticky</th>\n",
       "    </tr>\n",
       "  </thead>\n",
       "  <tbody>\n",
       "    <tr>\n",
       "      <th>0</th>\n",
       "      <td>2006-01-01</td>\n",
       "      <td>4.018789</td>\n",
       "      <td>2.110553</td>\n",
       "      <td>2.451019</td>\n",
       "    </tr>\n",
       "    <tr>\n",
       "      <th>1</th>\n",
       "      <td>2006-02-01</td>\n",
       "      <td>3.638254</td>\n",
       "      <td>2.106319</td>\n",
       "      <td>2.499255</td>\n",
       "    </tr>\n",
       "    <tr>\n",
       "      <th>2</th>\n",
       "      <td>2006-03-01</td>\n",
       "      <td>3.417918</td>\n",
       "      <td>2.098951</td>\n",
       "      <td>2.581219</td>\n",
       "    </tr>\n",
       "    <tr>\n",
       "      <th>3</th>\n",
       "      <td>2006-04-01</td>\n",
       "      <td>3.613836</td>\n",
       "      <td>2.297702</td>\n",
       "      <td>2.680693</td>\n",
       "    </tr>\n",
       "    <tr>\n",
       "      <th>4</th>\n",
       "      <td>2006-05-01</td>\n",
       "      <td>3.977273</td>\n",
       "      <td>2.443890</td>\n",
       "      <td>2.783959</td>\n",
       "    </tr>\n",
       "    <tr>\n",
       "      <th>...</th>\n",
       "      <td>...</td>\n",
       "      <td>...</td>\n",
       "      <td>...</td>\n",
       "      <td>...</td>\n",
       "    </tr>\n",
       "    <tr>\n",
       "      <th>189</th>\n",
       "      <td>2021-10-01</td>\n",
       "      <td>6.236941</td>\n",
       "      <td>4.593958</td>\n",
       "      <td>3.042940</td>\n",
       "    </tr>\n",
       "    <tr>\n",
       "      <th>190</th>\n",
       "      <td>2021-11-01</td>\n",
       "      <td>6.828372</td>\n",
       "      <td>4.952634</td>\n",
       "      <td>3.205069</td>\n",
       "    </tr>\n",
       "    <tr>\n",
       "      <th>191</th>\n",
       "      <td>2021-12-01</td>\n",
       "      <td>7.096542</td>\n",
       "      <td>5.476621</td>\n",
       "      <td>3.467011</td>\n",
       "    </tr>\n",
       "    <tr>\n",
       "      <th>192</th>\n",
       "      <td>2022-01-01</td>\n",
       "      <td>7.525934</td>\n",
       "      <td>6.040783</td>\n",
       "      <td>3.982988</td>\n",
       "    </tr>\n",
       "    <tr>\n",
       "      <th>193</th>\n",
       "      <td>2022-02-01</td>\n",
       "      <td>7.912024</td>\n",
       "      <td>6.415744</td>\n",
       "      <td>4.297858</td>\n",
       "    </tr>\n",
       "  </tbody>\n",
       "</table>\n",
       "<p>194 rows × 4 columns</p>\n",
       "</div>"
      ],
      "text/plain": [
       "          Date       CPI      Core    Sticky\n",
       "0   2006-01-01  4.018789  2.110553  2.451019\n",
       "1   2006-02-01  3.638254  2.106319  2.499255\n",
       "2   2006-03-01  3.417918  2.098951  2.581219\n",
       "3   2006-04-01  3.613836  2.297702  2.680693\n",
       "4   2006-05-01  3.977273  2.443890  2.783959\n",
       "..         ...       ...       ...       ...\n",
       "189 2021-10-01  6.236941  4.593958  3.042940\n",
       "190 2021-11-01  6.828372  4.952634  3.205069\n",
       "191 2021-12-01  7.096542  5.476621  3.467011\n",
       "192 2022-01-01  7.525934  6.040783  3.982988\n",
       "193 2022-02-01  7.912024  6.415744  4.297858\n",
       "\n",
       "[194 rows x 4 columns]"
      ]
     },
     "execution_count": 1,
     "metadata": {},
     "output_type": "execute_result"
    }
   ],
   "source": [
    "import pandas as pd\n",
    "from requests import get\n",
    "from fake_useragent import UserAgent\n",
    "from io import StringIO\n",
    "\n",
    "keys = [\"CPIAUCSL\", \"CPILFESL\", \"CORESTICKM159SFRBATL\"]\n",
    "ColNames = [\"Date\", \"CPI\", \"Core\", \"Sticky\"]\n",
    "start, end = pd.Timestamp(2005, 1, 1), pd.Timestamp.today()\n",
    "\n",
    "dfs = []\n",
    "headers = {\"User-Agent\": UserAgent().chrome}\n",
    "for i in range(len(keys)):\n",
    "    url = \"https://fred.stlouisfed.org/graph/fredgraph.csv?id=\" + keys[i]\n",
    "    df = pd.read_csv(StringIO(get(url, headers=headers).text))\n",
    "\n",
    "    df[\"DATE\"] = pd.to_datetime(df[\"DATE\"])\n",
    "    df = df.loc[(df[\"DATE\"] >= start) & (df[\"DATE\"] <= end)]\n",
    "    df = df.reset_index(drop=True)\n",
    "\n",
    "    if df[keys[i]][0] >= 150:\n",
    "        df[keys[i]] = df[keys[i]].pct_change(12, fill_method=\"ffill\") * 100\n",
    "    dfs.append(df)\n",
    "\n",
    "df = pd.concat(dfs, axis=1).dropna().reset_index(drop=True)\n",
    "df = df.loc[:, ~df.columns.duplicated()]\n",
    "df.columns = ColNames\n",
    "df\n"
   ]
  },
  {
   "cell_type": "code",
   "execution_count": 2,
   "metadata": {},
   "outputs": [
    {
     "data": {
      "text/html": [
       "\n",
       "    <div class=\"bk-root\">\n",
       "        <a href=\"https://bokeh.org\" target=\"_blank\" class=\"bk-logo bk-logo-small bk-logo-notebook\"></a>\n",
       "        <span id=\"1002\">Loading BokehJS ...</span>\n",
       "    </div>"
      ]
     },
     "metadata": {},
     "output_type": "display_data"
    },
    {
     "data": {
      "application/javascript": "\n(function(root) {\n  function now() {\n    return new Date();\n  }\n\n  const force = true;\n\n  if (typeof root._bokeh_onload_callbacks === \"undefined\" || force === true) {\n    root._bokeh_onload_callbacks = [];\n    root._bokeh_is_loading = undefined;\n  }\n\n  const JS_MIME_TYPE = 'application/javascript';\n  const HTML_MIME_TYPE = 'text/html';\n  const EXEC_MIME_TYPE = 'application/vnd.bokehjs_exec.v0+json';\n  const CLASS_NAME = 'output_bokeh rendered_html';\n\n  /**\n   * Render data to the DOM node\n   */\n  function render(props, node) {\n    const script = document.createElement(\"script\");\n    node.appendChild(script);\n  }\n\n  /**\n   * Handle when an output is cleared or removed\n   */\n  function handleClearOutput(event, handle) {\n    const cell = handle.cell;\n\n    const id = cell.output_area._bokeh_element_id;\n    const server_id = cell.output_area._bokeh_server_id;\n    // Clean up Bokeh references\n    if (id != null && id in Bokeh.index) {\n      Bokeh.index[id].model.document.clear();\n      delete Bokeh.index[id];\n    }\n\n    if (server_id !== undefined) {\n      // Clean up Bokeh references\n      const cmd_clean = \"from bokeh.io.state import curstate; print(curstate().uuid_to_server['\" + server_id + \"'].get_sessions()[0].document.roots[0]._id)\";\n      cell.notebook.kernel.execute(cmd_clean, {\n        iopub: {\n          output: function(msg) {\n            const id = msg.content.text.trim();\n            if (id in Bokeh.index) {\n              Bokeh.index[id].model.document.clear();\n              delete Bokeh.index[id];\n            }\n          }\n        }\n      });\n      // Destroy server and session\n      const cmd_destroy = \"import bokeh.io.notebook as ion; ion.destroy_server('\" + server_id + \"')\";\n      cell.notebook.kernel.execute(cmd_destroy);\n    }\n  }\n\n  /**\n   * Handle when a new output is added\n   */\n  function handleAddOutput(event, handle) {\n    const output_area = handle.output_area;\n    const output = handle.output;\n\n    // limit handleAddOutput to display_data with EXEC_MIME_TYPE content only\n    if ((output.output_type != \"display_data\") || (!Object.prototype.hasOwnProperty.call(output.data, EXEC_MIME_TYPE))) {\n      return\n    }\n\n    const toinsert = output_area.element.find(\".\" + CLASS_NAME.split(' ')[0]);\n\n    if (output.metadata[EXEC_MIME_TYPE][\"id\"] !== undefined) {\n      toinsert[toinsert.length - 1].firstChild.textContent = output.data[JS_MIME_TYPE];\n      // store reference to embed id on output_area\n      output_area._bokeh_element_id = output.metadata[EXEC_MIME_TYPE][\"id\"];\n    }\n    if (output.metadata[EXEC_MIME_TYPE][\"server_id\"] !== undefined) {\n      const bk_div = document.createElement(\"div\");\n      bk_div.innerHTML = output.data[HTML_MIME_TYPE];\n      const script_attrs = bk_div.children[0].attributes;\n      for (let i = 0; i < script_attrs.length; i++) {\n        toinsert[toinsert.length - 1].firstChild.setAttribute(script_attrs[i].name, script_attrs[i].value);\n        toinsert[toinsert.length - 1].firstChild.textContent = bk_div.children[0].textContent\n      }\n      // store reference to server id on output_area\n      output_area._bokeh_server_id = output.metadata[EXEC_MIME_TYPE][\"server_id\"];\n    }\n  }\n\n  function register_renderer(events, OutputArea) {\n\n    function append_mime(data, metadata, element) {\n      // create a DOM node to render to\n      const toinsert = this.create_output_subarea(\n        metadata,\n        CLASS_NAME,\n        EXEC_MIME_TYPE\n      );\n      this.keyboard_manager.register_events(toinsert);\n      // Render to node\n      const props = {data: data, metadata: metadata[EXEC_MIME_TYPE]};\n      render(props, toinsert[toinsert.length - 1]);\n      element.append(toinsert);\n      return toinsert\n    }\n\n    /* Handle when an output is cleared or removed */\n    events.on('clear_output.CodeCell', handleClearOutput);\n    events.on('delete.Cell', handleClearOutput);\n\n    /* Handle when a new output is added */\n    events.on('output_added.OutputArea', handleAddOutput);\n\n    /**\n     * Register the mime type and append_mime function with output_area\n     */\n    OutputArea.prototype.register_mime_type(EXEC_MIME_TYPE, append_mime, {\n      /* Is output safe? */\n      safe: true,\n      /* Index of renderer in `output_area.display_order` */\n      index: 0\n    });\n  }\n\n  // register the mime type if in Jupyter Notebook environment and previously unregistered\n  if (root.Jupyter !== undefined) {\n    const events = require('base/js/events');\n    const OutputArea = require('notebook/js/outputarea').OutputArea;\n\n    if (OutputArea.prototype.mime_types().indexOf(EXEC_MIME_TYPE) == -1) {\n      register_renderer(events, OutputArea);\n    }\n  }\n\n  \n  if (typeof (root._bokeh_timeout) === \"undefined\" || force === true) {\n    root._bokeh_timeout = Date.now() + 5000;\n    root._bokeh_failed_load = false;\n  }\n\n  const NB_LOAD_WARNING = {'data': {'text/html':\n     \"<div style='background-color: #fdd'>\\n\"+\n     \"<p>\\n\"+\n     \"BokehJS does not appear to have successfully loaded. If loading BokehJS from CDN, this \\n\"+\n     \"may be due to a slow or bad network connection. Possible fixes:\\n\"+\n     \"</p>\\n\"+\n     \"<ul>\\n\"+\n     \"<li>re-rerun `output_notebook()` to attempt to load from CDN again, or</li>\\n\"+\n     \"<li>use INLINE resources instead, as so:</li>\\n\"+\n     \"</ul>\\n\"+\n     \"<code>\\n\"+\n     \"from bokeh.resources import INLINE\\n\"+\n     \"output_notebook(resources=INLINE)\\n\"+\n     \"</code>\\n\"+\n     \"</div>\"}};\n\n  function display_loaded() {\n    const el = document.getElementById(\"1002\");\n    if (el != null) {\n      el.textContent = \"BokehJS is loading...\";\n    }\n    if (root.Bokeh !== undefined) {\n      if (el != null) {\n        el.textContent = \"BokehJS \" + root.Bokeh.version + \" successfully loaded.\";\n      }\n    } else if (Date.now() < root._bokeh_timeout) {\n      setTimeout(display_loaded, 100)\n    }\n  }\n\n\n  function run_callbacks() {\n    try {\n      root._bokeh_onload_callbacks.forEach(function(callback) {\n        if (callback != null)\n          callback();\n      });\n    } finally {\n      delete root._bokeh_onload_callbacks\n    }\n    console.debug(\"Bokeh: all callbacks have finished\");\n  }\n\n  function load_libs(css_urls, js_urls, callback) {\n    if (css_urls == null) css_urls = [];\n    if (js_urls == null) js_urls = [];\n\n    root._bokeh_onload_callbacks.push(callback);\n    if (root._bokeh_is_loading > 0) {\n      console.debug(\"Bokeh: BokehJS is being loaded, scheduling callback at\", now());\n      return null;\n    }\n    if (js_urls == null || js_urls.length === 0) {\n      run_callbacks();\n      return null;\n    }\n    console.debug(\"Bokeh: BokehJS not loaded, scheduling load and callback at\", now());\n    root._bokeh_is_loading = css_urls.length + js_urls.length;\n\n    function on_load() {\n      root._bokeh_is_loading--;\n      if (root._bokeh_is_loading === 0) {\n        console.debug(\"Bokeh: all BokehJS libraries/stylesheets loaded\");\n        run_callbacks()\n      }\n    }\n\n    function on_error(url) {\n      console.error(\"failed to load \" + url);\n    }\n\n    for (let i = 0; i < css_urls.length; i++) {\n      const url = css_urls[i];\n      const element = document.createElement(\"link\");\n      element.onload = on_load;\n      element.onerror = on_error.bind(null, url);\n      element.rel = \"stylesheet\";\n      element.type = \"text/css\";\n      element.href = url;\n      console.debug(\"Bokeh: injecting link tag for BokehJS stylesheet: \", url);\n      document.body.appendChild(element);\n    }\n\n    for (let i = 0; i < js_urls.length; i++) {\n      const url = js_urls[i];\n      const element = document.createElement('script');\n      element.onload = on_load;\n      element.onerror = on_error.bind(null, url);\n      element.async = false;\n      element.src = url;\n      console.debug(\"Bokeh: injecting script tag for BokehJS library: \", url);\n      document.head.appendChild(element);\n    }\n  };\n\n  function inject_raw_css(css) {\n    const element = document.createElement(\"style\");\n    element.appendChild(document.createTextNode(css));\n    document.body.appendChild(element);\n  }\n\n  \n  const js_urls = [\"https://cdn.bokeh.org/bokeh/release/bokeh-2.4.2.min.js\", \"https://cdn.bokeh.org/bokeh/release/bokeh-gl-2.4.2.min.js\", \"https://cdn.bokeh.org/bokeh/release/bokeh-widgets-2.4.2.min.js\", \"https://cdn.bokeh.org/bokeh/release/bokeh-tables-2.4.2.min.js\", \"https://cdn.bokeh.org/bokeh/release/bokeh-mathjax-2.4.2.min.js\"];\n  const css_urls = [];\n  \n\n  const inline_js = [\n    function(Bokeh) {\n      Bokeh.set_log_level(\"info\");\n    },\n    function(Bokeh) {\n    \n    \n    }\n  ];\n\n  function run_inline_js() {\n    \n    if (root.Bokeh !== undefined || force === true) {\n      \n    for (let i = 0; i < inline_js.length; i++) {\n      inline_js[i].call(root, root.Bokeh);\n    }\n    if (force === true) {\n        display_loaded();\n      }} else if (Date.now() < root._bokeh_timeout) {\n      setTimeout(run_inline_js, 100);\n    } else if (!root._bokeh_failed_load) {\n      console.log(\"Bokeh: BokehJS failed to load within specified timeout.\");\n      root._bokeh_failed_load = true;\n    } else if (force !== true) {\n      const cell = $(document.getElementById(\"1002\")).parents('.cell').data().cell;\n      cell.output_area.append_execute_result(NB_LOAD_WARNING)\n    }\n\n  }\n\n  if (root._bokeh_is_loading === 0) {\n    console.debug(\"Bokeh: BokehJS loaded, going straight to plotting\");\n    run_inline_js();\n  } else {\n    load_libs(css_urls, js_urls, function() {\n      console.debug(\"Bokeh: BokehJS plotting callback run at\", now());\n      run_inline_js();\n    });\n  }\n}(window));",
      "application/vnd.bokehjs_load.v0+json": ""
     },
     "metadata": {},
     "output_type": "display_data"
    },
    {
     "data": {
      "text/html": [
       "\n",
       "\n",
       "\n",
       "\n",
       "\n",
       "\n",
       "  <div class=\"bk-root\" id=\"d1547333-0405-42c2-94fa-25198efda952\" data-root-id=\"1133\"></div>\n"
      ]
     },
     "metadata": {},
     "output_type": "display_data"
    },
    {
     "data": {
      "application/javascript": "(function(root) {\n  function embed_document(root) {\n    \n  const docs_json = {\"72c3fdfa-44cd-44ff-aa48-3b84e645493f\":{\"defs\":[],\"roots\":{\"references\":[{\"attributes\":{\"children\":[[{\"id\":\"1132\"},0,0,1,1],[{\"id\":\"1005\"},1,0,1,1]],\"sizing_mode\":\"stretch_both\"},\"id\":\"1133\",\"type\":\"GridBox\"},{\"attributes\":{\"line_alpha\":0.2,\"line_color\":\"#d95f02\",\"x\":{\"field\":\"Date\"},\"y\":{\"field\":\"Core\"}},\"id\":\"1070\",\"type\":\"Line\"},{\"attributes\":{\"days\":[1,8,15,22]},\"id\":\"1058\",\"type\":\"DaysTicker\"},{\"attributes\":{\"coordinates\":null,\"group\":null,\"text_color\":\"#E0E0E0\",\"text_font\":\"Helvetica\",\"text_font_size\":\"1.15em\"},\"id\":\"1042\",\"type\":\"Title\"},{\"attributes\":{},\"id\":\"1048\",\"type\":\"DatetimeTickFormatter\"},{\"attributes\":{\"base\":24,\"mantissas\":[1,2,4,6,8,12],\"max_interval\":43200000.0,\"min_interval\":3600000.0,\"num_minor_ticks\":0},\"id\":\"1055\",\"type\":\"AdaptiveTicker\"},{\"attributes\":{\"source\":{\"id\":\"1004\"}},\"id\":\"1072\",\"type\":\"CDSView\"},{\"attributes\":{},\"id\":\"1064\",\"type\":\"YearsTicker\"},{\"attributes\":{\"label\":{\"value\":\"Sticky\"},\"renderers\":[{\"id\":\"1101\"}]},\"id\":\"1126\",\"type\":\"LegendItem\"},{\"attributes\":{\"days\":[1,4,7,10,13,16,19,22,25,28]},\"id\":\"1057\",\"type\":\"DaysTicker\"},{\"attributes\":{},\"id\":\"1049\",\"type\":\"AllLabels\"},{\"attributes\":{\"days\":[1,2,3,4,5,6,7,8,9,10,11,12,13,14,15,16,17,18,19,20,21,22,23,24,25,26,27,28,29,30,31]},\"id\":\"1056\",\"type\":\"DaysTicker\"},{\"attributes\":{\"label\":{\"value\":\"Core\"},\"renderers\":[{\"id\":\"1071\"}]},\"id\":\"1096\",\"type\":\"LegendItem\"},{\"attributes\":{},\"id\":\"1045\",\"type\":\"BasicTickFormatter\"},{\"attributes\":{\"months\":[0,6]},\"id\":\"1063\",\"type\":\"MonthsTicker\"},{\"attributes\":{\"days\":[1,15]},\"id\":\"1059\",\"type\":\"DaysTicker\"},{\"attributes\":{\"months\":[0,1,2,3,4,5,6,7,8,9,10,11]},\"id\":\"1060\",\"type\":\"MonthsTicker\"},{\"attributes\":{\"label\":{\"value\":\"CPI\"},\"renderers\":[{\"id\":\"1040\"}]},\"id\":\"1066\",\"type\":\"LegendItem\"},{\"attributes\":{\"months\":[0,2,4,6,8,10]},\"id\":\"1061\",\"type\":\"MonthsTicker\"},{\"attributes\":{\"source\":{\"id\":\"1004\"}},\"id\":\"1041\",\"type\":\"CDSView\"},{\"attributes\":{\"bottom_units\":\"screen\",\"coordinates\":null,\"fill_alpha\":0.5,\"fill_color\":\"lightgrey\",\"group\":null,\"left_units\":\"screen\",\"level\":\"overlay\",\"line_alpha\":1.0,\"line_color\":\"black\",\"line_dash\":[4,4],\"line_width\":2,\"right_units\":\"screen\",\"syncable\":false,\"top_units\":\"screen\"},\"id\":\"1028\",\"type\":\"BoxAnnotation\"},{\"attributes\":{\"months\":[0,4,8]},\"id\":\"1062\",\"type\":\"MonthsTicker\"},{\"attributes\":{\"children\":[{\"id\":\"1003\"}],\"sizing_mode\":\"stretch_width\"},\"id\":\"1132\",\"type\":\"Column\"},{\"attributes\":{\"coordinates\":null,\"group\":null,\"line_color\":\"gray\",\"line_dash\":[6],\"line_width\":3,\"location\":0},\"id\":\"1129\",\"type\":\"Span\"},{\"attributes\":{\"line_color\":\"#1b9e77\",\"x\":{\"field\":\"Date\"},\"y\":{\"field\":\"CPI\"}},\"id\":\"1037\",\"type\":\"Line\"},{\"attributes\":{},\"id\":\"1050\",\"type\":\"UnionRenderers\"},{\"attributes\":{\"overlay\":{\"id\":\"1028\"}},\"id\":\"1024\",\"type\":\"BoxZoomTool\"},{\"attributes\":{},\"id\":\"1051\",\"type\":\"Selection\"},{\"attributes\":{},\"id\":\"1025\",\"type\":\"SaveTool\"},{\"attributes\":{\"args\":{\"other\":{\"id\":\"1006\"}},\"code\":\"other.end = this.value[1]\"},\"id\":\"1128\",\"type\":\"CustomJS\"},{\"attributes\":{},\"id\":\"1026\",\"type\":\"ResetTool\"},{\"attributes\":{},\"id\":\"1022\",\"type\":\"PanTool\"},{\"attributes\":{},\"id\":\"1023\",\"type\":\"WheelZoomTool\"},{\"attributes\":{},\"id\":\"1012\",\"type\":\"LinearScale\"},{\"attributes\":{\"base\":60,\"mantissas\":[1,2,5,10,15,20,30],\"max_interval\":1800000.0,\"min_interval\":1000.0,\"num_minor_ticks\":0},\"id\":\"1054\",\"type\":\"AdaptiveTicker\"},{\"attributes\":{},\"id\":\"1027\",\"type\":\"HelpTool\"},{\"attributes\":{\"data\":{\"CPI\":{\"__ndarray__\":\"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\",\"dtype\":\"float64\",\"order\":\"little\",\"shape\":[194]},\"Core\":{\"__ndarray__\":\"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\",\"dtype\":\"float64\",\"order\":\"little\",\"shape\":[194]},\"Date\":{\"__ndarray__\":\"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\",\"dtype\":\"float64\",\"order\":\"little\",\"shape\":[194]},\"Sticky\":{\"__ndarray__\":\"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\",\"dtype\":\"float64\",\"order\":\"little\",\"shape\":[194]},\"index\":[0,1,2,3,4,5,6,7,8,9,10,11,12,13,14,15,16,17,18,19,20,21,22,23,24,25,26,27,28,29,30,31,32,33,34,35,36,37,38,39,40,41,42,43,44,45,46,47,48,49,50,51,52,53,54,55,56,57,58,59,60,61,62,63,64,65,66,67,68,69,70,71,72,73,74,75,76,77,78,79,80,81,82,83,84,85,86,87,88,89,90,91,92,93,94,95,96,97,98,99,100,101,102,103,104,105,106,107,108,109,110,111,112,113,114,115,116,117,118,119,120,121,122,123,124,125,126,127,128,129,130,131,132,133,134,135,136,137,138,139,140,141,142,143,144,145,146,147,148,149,150,151,152,153,154,155,156,157,158,159,160,161,162,163,164,165,166,167,168,169,170,171,172,173,174,175,176,177,178,179,180,181,182,183,184,185,186,187,188,189,190,191,192,193]},\"selected\":{\"id\":\"1051\"},\"selection_policy\":{\"id\":\"1050\"}},\"id\":\"1004\",\"type\":\"ColumnDataSource\"},{\"attributes\":{\"callback\":null,\"formatters\":{\"@CPI\":\"numeral\",\"@Core\":\"numeral\",\"@Date\":\"datetime\",\"@Sticky\":\"numeral\"},\"mode\":\"vline\",\"renderers\":[{\"id\":\"1040\"}],\"tooltips\":[[\"Date\",\"@Date{%F}\"],[\"CPI\",\"@CPI{0.0a}\"],[\"Core\",\"@Core{0.0a}\"],[\"Sticky\",\"@Sticky{0.0a}\"]]},\"id\":\"1130\",\"type\":\"HoverTool\"},{\"attributes\":{\"line_alpha\":0.1,\"line_color\":\"#7570b3\",\"x\":{\"field\":\"Date\"},\"y\":{\"field\":\"Sticky\"}},\"id\":\"1099\",\"type\":\"Line\"},{\"attributes\":{\"active_drag\":null,\"active_scroll\":null,\"active_tap\":null,\"tools\":[{\"id\":\"1022\"},{\"id\":\"1023\"},{\"id\":\"1024\"},{\"id\":\"1025\"},{\"id\":\"1026\"},{\"id\":\"1027\"},{\"id\":\"1130\"}]},\"id\":\"1029\",\"type\":\"Toolbar\"},{\"attributes\":{\"end\":1643673600000.0,\"start\":1136073600000.0},\"id\":\"1006\",\"type\":\"Range1d\"},{\"attributes\":{\"args\":{\"other\":{\"id\":\"1006\"}},\"code\":\"other.start = this.value[0]\"},\"id\":\"1127\",\"type\":\"CustomJS\"},{\"attributes\":{\"end\":1648339200000.0,\"js_property_callbacks\":{\"change:value\":[{\"id\":\"1127\"},{\"id\":\"1128\"}]},\"sizing_mode\":\"stretch_width\",\"start\":1136073600000.0,\"step\":2592000000,\"value\":[1136073600000.0,1643673600000.0]},\"id\":\"1003\",\"type\":\"DateRangeSlider\"},{\"attributes\":{\"coordinates\":null,\"data_source\":{\"id\":\"1004\"},\"glyph\":{\"id\":\"1098\"},\"group\":null,\"hover_glyph\":null,\"muted_glyph\":{\"id\":\"1100\"},\"nonselection_glyph\":{\"id\":\"1099\"},\"view\":{\"id\":\"1102\"}},\"id\":\"1101\",\"type\":\"GlyphRenderer\"},{\"attributes\":{\"background_fill_color\":\"#20262B\",\"below\":[{\"id\":\"1014\"}],\"border_fill_color\":\"#15191C\",\"center\":[{\"id\":\"1017\"},{\"id\":\"1021\"},{\"id\":\"1065\"}],\"left\":[{\"id\":\"1018\"}],\"outline_line_alpha\":0.25,\"outline_line_color\":\"#E0E0E0\",\"output_backend\":\"webgl\",\"renderers\":[{\"id\":\"1040\"},{\"id\":\"1071\"},{\"id\":\"1101\"},{\"id\":\"1129\"}],\"sizing_mode\":\"stretch_both\",\"title\":{\"id\":\"1042\"},\"toolbar\":{\"id\":\"1029\"},\"toolbar_location\":null,\"x_range\":{\"id\":\"1006\"},\"x_scale\":{\"id\":\"1010\"},\"y_range\":{\"id\":\"1008\"},\"y_scale\":{\"id\":\"1012\"}},\"id\":\"1005\",\"subtype\":\"Figure\",\"type\":\"Plot\"},{\"attributes\":{\"coordinates\":null,\"data_source\":{\"id\":\"1004\"},\"glyph\":{\"id\":\"1037\"},\"group\":null,\"hover_glyph\":null,\"muted_glyph\":{\"id\":\"1039\"},\"nonselection_glyph\":{\"id\":\"1038\"},\"view\":{\"id\":\"1041\"}},\"id\":\"1040\",\"type\":\"GlyphRenderer\"},{\"attributes\":{\"line_alpha\":0.1,\"line_color\":\"#1b9e77\",\"x\":{\"field\":\"Date\"},\"y\":{\"field\":\"CPI\"}},\"id\":\"1038\",\"type\":\"Line\"},{\"attributes\":{},\"id\":\"1008\",\"type\":\"DataRange1d\"},{\"attributes\":{\"background_fill_alpha\":0.25,\"background_fill_color\":\"#20262B\",\"border_line_alpha\":0,\"coordinates\":null,\"glyph_width\":15,\"group\":null,\"items\":[{\"id\":\"1066\"},{\"id\":\"1096\"},{\"id\":\"1126\"}],\"label_standoff\":8,\"label_text_color\":\"#E0E0E0\",\"label_text_font\":\"Helvetica\",\"label_text_font_size\":\"1.025em\",\"location\":\"top_left\",\"orientation\":\"horizontal\",\"spacing\":8},\"id\":\"1065\",\"type\":\"Legend\"},{\"attributes\":{\"axis_label_standoff\":10,\"axis_label_text_color\":\"#E0E0E0\",\"axis_label_text_font\":\"Helvetica\",\"axis_label_text_font_size\":\"1.25em\",\"axis_label_text_font_style\":\"normal\",\"axis_line_alpha\":0,\"axis_line_color\":\"#E0E0E0\",\"coordinates\":null,\"formatter\":{\"id\":\"1048\"},\"group\":null,\"major_label_policy\":{\"id\":\"1049\"},\"major_label_text_color\":\"#E0E0E0\",\"major_label_text_font\":\"Helvetica\",\"major_label_text_font_size\":\"1.025em\",\"major_tick_line_alpha\":0,\"major_tick_line_color\":\"#E0E0E0\",\"minor_tick_line_alpha\":0,\"minor_tick_line_color\":\"#E0E0E0\",\"ticker\":{\"id\":\"1015\"}},\"id\":\"1014\",\"type\":\"DatetimeAxis\"},{\"attributes\":{\"line_alpha\":0.2,\"line_color\":\"#7570b3\",\"x\":{\"field\":\"Date\"},\"y\":{\"field\":\"Sticky\"}},\"id\":\"1100\",\"type\":\"Line\"},{\"attributes\":{\"line_alpha\":0.2,\"line_color\":\"#1b9e77\",\"x\":{\"field\":\"Date\"},\"y\":{\"field\":\"CPI\"}},\"id\":\"1039\",\"type\":\"Line\"},{\"attributes\":{},\"id\":\"1046\",\"type\":\"AllLabels\"},{\"attributes\":{},\"id\":\"1010\",\"type\":\"LinearScale\"},{\"attributes\":{\"num_minor_ticks\":5,\"tickers\":[{\"id\":\"1053\"},{\"id\":\"1054\"},{\"id\":\"1055\"},{\"id\":\"1056\"},{\"id\":\"1057\"},{\"id\":\"1058\"},{\"id\":\"1059\"},{\"id\":\"1060\"},{\"id\":\"1061\"},{\"id\":\"1062\"},{\"id\":\"1063\"},{\"id\":\"1064\"}]},\"id\":\"1015\",\"type\":\"DatetimeTicker\"},{\"attributes\":{\"line_color\":\"#7570b3\",\"x\":{\"field\":\"Date\"},\"y\":{\"field\":\"Sticky\"}},\"id\":\"1098\",\"type\":\"Line\"},{\"attributes\":{},\"id\":\"1019\",\"type\":\"BasicTicker\"},{\"attributes\":{\"line_alpha\":0.1,\"line_color\":\"#d95f02\",\"x\":{\"field\":\"Date\"},\"y\":{\"field\":\"Core\"}},\"id\":\"1069\",\"type\":\"Line\"},{\"attributes\":{\"coordinates\":null,\"data_source\":{\"id\":\"1004\"},\"glyph\":{\"id\":\"1068\"},\"group\":null,\"hover_glyph\":null,\"muted_glyph\":{\"id\":\"1070\"},\"nonselection_glyph\":{\"id\":\"1069\"},\"view\":{\"id\":\"1072\"}},\"id\":\"1071\",\"type\":\"GlyphRenderer\"},{\"attributes\":{\"axis_label_standoff\":10,\"axis_label_text_color\":\"#E0E0E0\",\"axis_label_text_font\":\"Helvetica\",\"axis_label_text_font_size\":\"1.25em\",\"axis_label_text_font_style\":\"normal\",\"axis_line_alpha\":0,\"axis_line_color\":\"#E0E0E0\",\"coordinates\":null,\"formatter\":{\"id\":\"1045\"},\"group\":null,\"major_label_policy\":{\"id\":\"1046\"},\"major_label_text_color\":\"#E0E0E0\",\"major_label_text_font\":\"Helvetica\",\"major_label_text_font_size\":\"1.025em\",\"major_tick_line_alpha\":0,\"major_tick_line_color\":\"#E0E0E0\",\"minor_tick_line_alpha\":0,\"minor_tick_line_color\":\"#E0E0E0\",\"ticker\":{\"id\":\"1019\"}},\"id\":\"1018\",\"type\":\"LinearAxis\"},{\"attributes\":{\"source\":{\"id\":\"1004\"}},\"id\":\"1102\",\"type\":\"CDSView\"},{\"attributes\":{\"axis\":{\"id\":\"1014\"},\"coordinates\":null,\"grid_line_alpha\":0.25,\"grid_line_color\":\"#E0E0E0\",\"group\":null,\"ticker\":null},\"id\":\"1017\",\"type\":\"Grid\"},{\"attributes\":{\"mantissas\":[1,2,5],\"max_interval\":500.0,\"num_minor_ticks\":0},\"id\":\"1053\",\"type\":\"AdaptiveTicker\"},{\"attributes\":{\"axis\":{\"id\":\"1018\"},\"coordinates\":null,\"dimension\":1,\"grid_line_alpha\":0.25,\"grid_line_color\":\"#E0E0E0\",\"group\":null,\"ticker\":null},\"id\":\"1021\",\"type\":\"Grid\"},{\"attributes\":{\"line_color\":\"#d95f02\",\"x\":{\"field\":\"Date\"},\"y\":{\"field\":\"Core\"}},\"id\":\"1068\",\"type\":\"Line\"}],\"root_ids\":[\"1133\"]},\"title\":\"Bokeh Application\",\"version\":\"2.4.2\"}};\n  const render_items = [{\"docid\":\"72c3fdfa-44cd-44ff-aa48-3b84e645493f\",\"root_ids\":[\"1133\"],\"roots\":{\"1133\":\"d1547333-0405-42c2-94fa-25198efda952\"}}];\n  root.Bokeh.embed.embed_items_notebook(docs_json, render_items);\n\n  }\n  if (root.Bokeh !== undefined) {\n    embed_document(root);\n  } else {\n    let attempts = 0;\n    const timer = setInterval(function(root) {\n      if (root.Bokeh !== undefined) {\n        clearInterval(timer);\n        embed_document(root);\n      } else {\n        attempts++;\n        if (attempts > 100) {\n          clearInterval(timer);\n          console.log(\"Bokeh: ERROR: Unable to run BokehJS code because BokehJS library is missing\");\n        }\n      }\n    }, 10, root)\n  }\n})(window);",
      "application/vnd.bokehjs_exec.v0+json": ""
     },
     "metadata": {
      "application/vnd.bokehjs_exec.v0+json": {
       "id": "1133"
      }
     },
     "output_type": "display_data"
    }
   ],
   "source": [
    "from bokeh.io import output_notebook\n",
    "from FRED_Bokeh import *\n",
    "\n",
    "output_notebook()\n",
    "\n",
    "show(chartFRED(df))\n"
   ]
  },
  {
   "cell_type": "code",
   "execution_count": null,
   "metadata": {},
   "outputs": [],
   "source": []
  }
 ],
 "metadata": {
  "interpreter": {
   "hash": "f96efbd20990c9b87154ff1e04974328ba5cd93cb6fdf3bf0ba6a60073362e50"
  },
  "kernelspec": {
   "display_name": "Python 3.9.6 64-bit",
   "language": "python",
   "name": "python3"
  },
  "language_info": {
   "codemirror_mode": {
    "name": "ipython",
    "version": 3
   },
   "file_extension": ".py",
   "mimetype": "text/x-python",
   "name": "python",
   "nbconvert_exporter": "python",
   "pygments_lexer": "ipython3",
   "version": "3.9.6"
  },
  "orig_nbformat": 4
 },
 "nbformat": 4,
 "nbformat_minor": 2
}
